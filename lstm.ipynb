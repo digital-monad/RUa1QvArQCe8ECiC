{
 "cells": [
  {
   "cell_type": "code",
   "execution_count": 82,
   "metadata": {},
   "outputs": [],
   "source": [
    "import torch\n",
    "from torch import nn\n",
    "import matplotlib.pyplot as plt\n",
    "import pandas as pd\n",
    "import tqdm\n",
    "import pandas as pd\n",
    "from sklearn.preprocessing import MinMaxScaler\n",
    "import numpy as np\n",
    "from torch.utils.data import Dataset, DataLoader"
   ]
  },
  {
   "cell_type": "code",
   "execution_count": 83,
   "metadata": {},
   "outputs": [],
   "source": [
    "df = pd.read_csv(\"SBER.csv\", parse_dates=[\"Date\"], nrows = 311)"
   ]
  },
  {
   "cell_type": "code",
   "execution_count": 84,
   "metadata": {},
   "outputs": [
    {
     "data": {
      "text/html": [
       "<div>\n",
       "<style scoped>\n",
       "    .dataframe tbody tr th:only-of-type {\n",
       "        vertical-align: middle;\n",
       "    }\n",
       "\n",
       "    .dataframe tbody tr th {\n",
       "        vertical-align: top;\n",
       "    }\n",
       "\n",
       "    .dataframe thead th {\n",
       "        text-align: right;\n",
       "    }\n",
       "</style>\n",
       "<table border=\"1\" class=\"dataframe\">\n",
       "  <thead>\n",
       "    <tr style=\"text-align: right;\">\n",
       "      <th></th>\n",
       "      <th>Date</th>\n",
       "      <th>Price</th>\n",
       "      <th>Open</th>\n",
       "      <th>High</th>\n",
       "      <th>Low</th>\n",
       "      <th>Vol.</th>\n",
       "      <th>Change %</th>\n",
       "    </tr>\n",
       "  </thead>\n",
       "  <tbody>\n",
       "    <tr>\n",
       "      <th>0</th>\n",
       "      <td>2021-03-31</td>\n",
       "      <td>291.02</td>\n",
       "      <td>294.00</td>\n",
       "      <td>294.42</td>\n",
       "      <td>290.26</td>\n",
       "      <td>47.00M</td>\n",
       "      <td>-0.76%</td>\n",
       "    </tr>\n",
       "    <tr>\n",
       "      <th>1</th>\n",
       "      <td>2021-03-30</td>\n",
       "      <td>293.25</td>\n",
       "      <td>294.86</td>\n",
       "      <td>295.72</td>\n",
       "      <td>291.50</td>\n",
       "      <td>38.81M</td>\n",
       "      <td>-0.02%</td>\n",
       "    </tr>\n",
       "    <tr>\n",
       "      <th>2</th>\n",
       "      <td>2021-03-29</td>\n",
       "      <td>293.30</td>\n",
       "      <td>289.72</td>\n",
       "      <td>294.09</td>\n",
       "      <td>289.26</td>\n",
       "      <td>43.68M</td>\n",
       "      <td>0.71%</td>\n",
       "    </tr>\n",
       "    <tr>\n",
       "      <th>3</th>\n",
       "      <td>2021-03-26</td>\n",
       "      <td>291.22</td>\n",
       "      <td>288.63</td>\n",
       "      <td>292.75</td>\n",
       "      <td>288.32</td>\n",
       "      <td>56.07M</td>\n",
       "      <td>1.59%</td>\n",
       "    </tr>\n",
       "    <tr>\n",
       "      <th>4</th>\n",
       "      <td>2021-03-25</td>\n",
       "      <td>286.66</td>\n",
       "      <td>286.50</td>\n",
       "      <td>287.03</td>\n",
       "      <td>283.85</td>\n",
       "      <td>35.22M</td>\n",
       "      <td>0.30%</td>\n",
       "    </tr>\n",
       "  </tbody>\n",
       "</table>\n",
       "</div>"
      ],
      "text/plain": [
       "        Date   Price    Open    High     Low    Vol. Change %\n",
       "0 2021-03-31  291.02  294.00  294.42  290.26  47.00M   -0.76%\n",
       "1 2021-03-30  293.25  294.86  295.72  291.50  38.81M   -0.02%\n",
       "2 2021-03-29  293.30  289.72  294.09  289.26  43.68M    0.71%\n",
       "3 2021-03-26  291.22  288.63  292.75  288.32  56.07M    1.59%\n",
       "4 2021-03-25  286.66  286.50  287.03  283.85  35.22M    0.30%"
      ]
     },
     "execution_count": 84,
     "metadata": {},
     "output_type": "execute_result"
    }
   ],
   "source": [
    "df.head()"
   ]
  },
  {
   "cell_type": "code",
   "execution_count": 85,
   "metadata": {},
   "outputs": [
    {
     "data": {
      "text/html": [
       "<div>\n",
       "<style scoped>\n",
       "    .dataframe tbody tr th:only-of-type {\n",
       "        vertical-align: middle;\n",
       "    }\n",
       "\n",
       "    .dataframe tbody tr th {\n",
       "        vertical-align: top;\n",
       "    }\n",
       "\n",
       "    .dataframe thead th {\n",
       "        text-align: right;\n",
       "    }\n",
       "</style>\n",
       "<table border=\"1\" class=\"dataframe\">\n",
       "  <thead>\n",
       "    <tr style=\"text-align: right;\">\n",
       "      <th></th>\n",
       "      <th>Price</th>\n",
       "      <th>Open</th>\n",
       "      <th>High</th>\n",
       "      <th>Low</th>\n",
       "      <th>Vol.</th>\n",
       "      <th>Change %</th>\n",
       "    </tr>\n",
       "    <tr>\n",
       "      <th>Date</th>\n",
       "      <th></th>\n",
       "      <th></th>\n",
       "      <th></th>\n",
       "      <th></th>\n",
       "      <th></th>\n",
       "      <th></th>\n",
       "    </tr>\n",
       "  </thead>\n",
       "  <tbody>\n",
       "    <tr>\n",
       "      <th>2020-01-03</th>\n",
       "      <td>255.0</td>\n",
       "      <td>255.99</td>\n",
       "      <td>258.19</td>\n",
       "      <td>253.7</td>\n",
       "      <td>35.85</td>\n",
       "      <td>0.10</td>\n",
       "    </tr>\n",
       "    <tr>\n",
       "      <th>2020-01-04</th>\n",
       "      <td>255.0</td>\n",
       "      <td>255.99</td>\n",
       "      <td>258.19</td>\n",
       "      <td>253.7</td>\n",
       "      <td>35.85</td>\n",
       "      <td>0.10</td>\n",
       "    </tr>\n",
       "    <tr>\n",
       "      <th>2020-01-05</th>\n",
       "      <td>255.0</td>\n",
       "      <td>255.99</td>\n",
       "      <td>258.19</td>\n",
       "      <td>253.7</td>\n",
       "      <td>35.85</td>\n",
       "      <td>0.10</td>\n",
       "    </tr>\n",
       "    <tr>\n",
       "      <th>2020-01-06</th>\n",
       "      <td>253.9</td>\n",
       "      <td>254.75</td>\n",
       "      <td>254.84</td>\n",
       "      <td>251.4</td>\n",
       "      <td>22.35</td>\n",
       "      <td>-0.43</td>\n",
       "    </tr>\n",
       "    <tr>\n",
       "      <th>2020-01-07</th>\n",
       "      <td>253.9</td>\n",
       "      <td>254.75</td>\n",
       "      <td>254.84</td>\n",
       "      <td>251.4</td>\n",
       "      <td>22.35</td>\n",
       "      <td>-0.43</td>\n",
       "    </tr>\n",
       "  </tbody>\n",
       "</table>\n",
       "</div>"
      ],
      "text/plain": [
       "            Price    Open    High    Low   Vol.  Change %\n",
       "Date                                                     \n",
       "2020-01-03  255.0  255.99  258.19  253.7  35.85      0.10\n",
       "2020-01-04  255.0  255.99  258.19  253.7  35.85      0.10\n",
       "2020-01-05  255.0  255.99  258.19  253.7  35.85      0.10\n",
       "2020-01-06  253.9  254.75  254.84  251.4  22.35     -0.43\n",
       "2020-01-07  253.9  254.75  254.84  251.4  22.35     -0.43"
      ]
     },
     "execution_count": 85,
     "metadata": {},
     "output_type": "execute_result"
    }
   ],
   "source": [
    "df[\"Vol.\"] = df[\"Vol.\"].apply(lambda x : float(x[:-1]))\n",
    "df[\"Change %\"] = df[\"Change %\"].apply(lambda x : float(x[:-1]))\n",
    "df.sort_values(by=\"Date\", inplace=True)\n",
    "df.set_index(\"Date\", inplace=True)\n",
    "df = df.asfreq('D', method=\"ffill\")\n",
    "df.head()"
   ]
  },
  {
   "cell_type": "code",
   "execution_count": 86,
   "metadata": {},
   "outputs": [
    {
     "data": {
      "text/html": [
       "<div>\n",
       "<style scoped>\n",
       "    .dataframe tbody tr th:only-of-type {\n",
       "        vertical-align: middle;\n",
       "    }\n",
       "\n",
       "    .dataframe tbody tr th {\n",
       "        vertical-align: top;\n",
       "    }\n",
       "\n",
       "    .dataframe thead th {\n",
       "        text-align: right;\n",
       "    }\n",
       "</style>\n",
       "<table border=\"1\" class=\"dataframe\">\n",
       "  <thead>\n",
       "    <tr style=\"text-align: right;\">\n",
       "      <th></th>\n",
       "      <th>Price</th>\n",
       "      <th>Open</th>\n",
       "      <th>High</th>\n",
       "      <th>Low</th>\n",
       "      <th>Vol.</th>\n",
       "      <th>Change %</th>\n",
       "    </tr>\n",
       "  </thead>\n",
       "  <tbody>\n",
       "    <tr>\n",
       "      <th>count</th>\n",
       "      <td>454.000000</td>\n",
       "      <td>454.000000</td>\n",
       "      <td>454.000000</td>\n",
       "      <td>454.000000</td>\n",
       "      <td>454.000000</td>\n",
       "      <td>454.000000</td>\n",
       "    </tr>\n",
       "    <tr>\n",
       "      <th>mean</th>\n",
       "      <td>234.325044</td>\n",
       "      <td>234.240198</td>\n",
       "      <td>236.987841</td>\n",
       "      <td>231.154317</td>\n",
       "      <td>71.899626</td>\n",
       "      <td>0.025220</td>\n",
       "    </tr>\n",
       "    <tr>\n",
       "      <th>std</th>\n",
       "      <td>31.924844</td>\n",
       "      <td>31.883906</td>\n",
       "      <td>31.899241</td>\n",
       "      <td>31.935379</td>\n",
       "      <td>38.173981</td>\n",
       "      <td>2.299301</td>\n",
       "    </tr>\n",
       "    <tr>\n",
       "      <th>min</th>\n",
       "      <td>174.270000</td>\n",
       "      <td>175.000000</td>\n",
       "      <td>182.200000</td>\n",
       "      <td>172.150000</td>\n",
       "      <td>8.760000</td>\n",
       "      <td>-9.570000</td>\n",
       "    </tr>\n",
       "    <tr>\n",
       "      <th>25%</th>\n",
       "      <td>207.305000</td>\n",
       "      <td>207.092500</td>\n",
       "      <td>209.240000</td>\n",
       "      <td>204.400000</td>\n",
       "      <td>46.845000</td>\n",
       "      <td>-1.040000</td>\n",
       "    </tr>\n",
       "    <tr>\n",
       "      <th>50%</th>\n",
       "      <td>228.565000</td>\n",
       "      <td>229.000000</td>\n",
       "      <td>231.525000</td>\n",
       "      <td>226.260000</td>\n",
       "      <td>65.585000</td>\n",
       "      <td>0.065000</td>\n",
       "    </tr>\n",
       "    <tr>\n",
       "      <th>75%</th>\n",
       "      <td>265.442500</td>\n",
       "      <td>264.000000</td>\n",
       "      <td>267.297500</td>\n",
       "      <td>261.140000</td>\n",
       "      <td>87.010000</td>\n",
       "      <td>1.177500</td>\n",
       "    </tr>\n",
       "    <tr>\n",
       "      <th>max</th>\n",
       "      <td>293.300000</td>\n",
       "      <td>294.860000</td>\n",
       "      <td>296.070000</td>\n",
       "      <td>291.500000</td>\n",
       "      <td>263.040000</td>\n",
       "      <td>12.900000</td>\n",
       "    </tr>\n",
       "  </tbody>\n",
       "</table>\n",
       "</div>"
      ],
      "text/plain": [
       "            Price        Open        High         Low        Vol.    Change %\n",
       "count  454.000000  454.000000  454.000000  454.000000  454.000000  454.000000\n",
       "mean   234.325044  234.240198  236.987841  231.154317   71.899626    0.025220\n",
       "std     31.924844   31.883906   31.899241   31.935379   38.173981    2.299301\n",
       "min    174.270000  175.000000  182.200000  172.150000    8.760000   -9.570000\n",
       "25%    207.305000  207.092500  209.240000  204.400000   46.845000   -1.040000\n",
       "50%    228.565000  229.000000  231.525000  226.260000   65.585000    0.065000\n",
       "75%    265.442500  264.000000  267.297500  261.140000   87.010000    1.177500\n",
       "max    293.300000  294.860000  296.070000  291.500000  263.040000   12.900000"
      ]
     },
     "execution_count": 86,
     "metadata": {},
     "output_type": "execute_result"
    }
   ],
   "source": [
    "df.describe()"
   ]
  },
  {
   "cell_type": "code",
   "execution_count": 87,
   "metadata": {},
   "outputs": [],
   "source": [
    "train = df[df.index < \"2021-01-01\"]\n",
    "test = df[df.index >= \"2021-01-01\"]"
   ]
  },
  {
   "cell_type": "markdown",
   "metadata": {},
   "source": [
    "## Create test and training sets\n"
   ]
  },
  {
   "cell_type": "code",
   "execution_count": 88,
   "metadata": {},
   "outputs": [],
   "source": [
    "scaler = MinMaxScaler(feature_range=(0, 1)).fit(train)\n",
    "stock_train = scaler.transform(train)\n",
    "stock_test = scaler.transform(test)"
   ]
  },
  {
   "cell_type": "code",
   "execution_count": 89,
   "metadata": {},
   "outputs": [
    {
     "data": {
      "text/plain": [
       "array([[0.73752969, 0.7362058 , 0.72001137, 0.75768838, 0.09504083,\n",
       "        0.43035158],\n",
       "       [0.73752969, 0.7362058 , 0.72001137, 0.75768838, 0.09504083,\n",
       "        0.43035158],\n",
       "       [0.73752969, 0.7362058 , 0.72001137, 0.75768838, 0.09504083,\n",
       "        0.43035158],\n",
       "       ...,\n",
       "       [0.89283757, 0.91728025, 0.89283684, 0.92083991, 0.1076678 ,\n",
       "        0.38228749],\n",
       "       [0.88964005, 0.88619216, 0.87208641, 0.91024807, 0.0778331 ,\n",
       "        0.42011571],\n",
       "       [0.88964005, 0.88619216, 0.87208641, 0.91024807, 0.0778331 ,\n",
       "        0.42011571]])"
      ]
     },
     "execution_count": 89,
     "metadata": {},
     "output_type": "execute_result"
    }
   ],
   "source": [
    "stock_train"
   ]
  },
  {
   "cell_type": "code",
   "execution_count": 90,
   "metadata": {},
   "outputs": [
    {
     "name": "stdout",
     "output_type": "stream",
     "text": [
      "Length =  364\n",
      "Length =  90\n"
     ]
    }
   ],
   "source": [
    "train_window = 2\n",
    "import numpy as np\n",
    "def create_in_out_sequences(price, tw):\n",
    "    inout_seq = []\n",
    "    L = len(price)\n",
    "    print('Length = ', L)\n",
    "    \n",
    "    for i in range(L-tw):\n",
    "        data_seq = price[i:i+tw]\n",
    "        data_label = price[i+tw:i+tw+1][0][0]\n",
    "        inout_seq.append((data_seq ,data_label))\n",
    "    return inout_seq\n",
    "    \n",
    "train_seqs = create_in_out_sequences(stock_train, train_window)\n",
    "test_seqs = create_in_out_sequences(stock_test, train_window)"
   ]
  },
  {
   "cell_type": "code",
   "execution_count": 91,
   "metadata": {},
   "outputs": [
    {
     "data": {
      "text/plain": [
       "(array([[0.73752969, 0.7362058 , 0.72001137, 0.75768838, 0.09504083,\n",
       "         0.43035158],\n",
       "        [0.73752969, 0.7362058 , 0.72001137, 0.75768838, 0.09504083,\n",
       "         0.43035158]]),\n",
       " np.float64(0.7375296912114011))"
      ]
     },
     "execution_count": 91,
     "metadata": {},
     "output_type": "execute_result"
    }
   ],
   "source": [
    "train_seqs[0]"
   ]
  },
  {
   "cell_type": "code",
   "execution_count": 92,
   "metadata": {},
   "outputs": [],
   "source": [
    "class LSTM(nn.Module):\n",
    "    def __init__(self, input_size=6, hidden_layer_size=100, output_size=1):\n",
    "        super().__init__()\n",
    "        self.hidden_layer_size = hidden_layer_size\n",
    "\n",
    "        self.lstm = nn.LSTM(input_size, hidden_layer_size)\n",
    "\n",
    "        self.linear = nn.Linear(hidden_layer_size, output_size)\n",
    "\n",
    "    def forward(self, input_seq):\n",
    "        hidden_cell = (torch.zeros(1,1,self.hidden_layer_size),\n",
    "                       torch.zeros(1,1,self.hidden_layer_size),\n",
    "                      )\n",
    "        lstm_out, hidden_cell = self.lstm(input_seq.view(len(input_seq), 1, -1), hidden_cell)\n",
    "        predictions = self.linear(lstm_out.view(len(input_seq), -1))\n",
    "        return predictions[-1]"
   ]
  },
  {
   "cell_type": "code",
   "execution_count": 93,
   "metadata": {},
   "outputs": [],
   "source": [
    "model = LSTM()\n",
    "loss_function = nn.MSELoss()\n",
    "optimizer = torch.optim.Adam(model.parameters(), lr=0.002)"
   ]
  },
  {
   "cell_type": "code",
   "execution_count": 94,
   "metadata": {},
   "outputs": [
    {
     "data": {
      "application/vnd.jupyter.widget-view+json": {
       "model_id": "569022be20d14205b9fe66ccba2b752d",
       "version_major": 2,
       "version_minor": 0
      },
      "text/plain": [
       "  0%|          | 0/50 [00:00<?, ?it/s]"
      ]
     },
     "metadata": {},
     "output_type": "display_data"
    },
    {
     "data": {
      "application/vnd.jupyter.widget-view+json": {
       "model_id": "1097e37c293344898b3165796379974a",
       "version_major": 2,
       "version_minor": 0
      },
      "text/plain": [
       "  0%|          | 0/362 [00:00<?, ?it/s]"
      ]
     },
     "metadata": {},
     "output_type": "display_data"
    },
    {
     "name": "stdout",
     "output_type": "stream",
     "text": [
      "epoch:   0 loss: 0.0132766629\n"
     ]
    },
    {
     "data": {
      "application/vnd.jupyter.widget-view+json": {
       "model_id": "edb2ec62826249b6ab1539e26ab8e35c",
       "version_major": 2,
       "version_minor": 0
      },
      "text/plain": [
       "  0%|          | 0/362 [00:00<?, ?it/s]"
      ]
     },
     "metadata": {},
     "output_type": "display_data"
    },
    {
     "name": "stdout",
     "output_type": "stream",
     "text": [
      "epoch:   1 loss: 0.0068491472\n"
     ]
    },
    {
     "data": {
      "application/vnd.jupyter.widget-view+json": {
       "model_id": "9b8af40937b04efea55a9a53b86f83c4",
       "version_major": 2,
       "version_minor": 0
      },
      "text/plain": [
       "  0%|          | 0/362 [00:00<?, ?it/s]"
      ]
     },
     "metadata": {},
     "output_type": "display_data"
    },
    {
     "name": "stdout",
     "output_type": "stream",
     "text": [
      "epoch:   2 loss: 0.0082104790\n"
     ]
    },
    {
     "data": {
      "application/vnd.jupyter.widget-view+json": {
       "model_id": "8dacf0cef6564dc8b24f9d54390453dc",
       "version_major": 2,
       "version_minor": 0
      },
      "text/plain": [
       "  0%|          | 0/362 [00:00<?, ?it/s]"
      ]
     },
     "metadata": {},
     "output_type": "display_data"
    },
    {
     "name": "stdout",
     "output_type": "stream",
     "text": [
      "epoch:   3 loss: 0.0103872405\n"
     ]
    },
    {
     "data": {
      "application/vnd.jupyter.widget-view+json": {
       "model_id": "37a34fe153b140a1a51ecd76e9b24333",
       "version_major": 2,
       "version_minor": 0
      },
      "text/plain": [
       "  0%|          | 0/362 [00:00<?, ?it/s]"
      ]
     },
     "metadata": {},
     "output_type": "display_data"
    },
    {
     "name": "stdout",
     "output_type": "stream",
     "text": [
      "epoch:   4 loss: 0.0114641258\n"
     ]
    },
    {
     "data": {
      "application/vnd.jupyter.widget-view+json": {
       "model_id": "fc5f8fa0e0c241dcb8795e13ca29a704",
       "version_major": 2,
       "version_minor": 0
      },
      "text/plain": [
       "  0%|          | 0/362 [00:00<?, ?it/s]"
      ]
     },
     "metadata": {},
     "output_type": "display_data"
    },
    {
     "name": "stdout",
     "output_type": "stream",
     "text": [
      "epoch:   5 loss: 0.0095972730\n"
     ]
    },
    {
     "data": {
      "application/vnd.jupyter.widget-view+json": {
       "model_id": "f405178af49a4552b020c2cac0da9d08",
       "version_major": 2,
       "version_minor": 0
      },
      "text/plain": [
       "  0%|          | 0/362 [00:00<?, ?it/s]"
      ]
     },
     "metadata": {},
     "output_type": "display_data"
    },
    {
     "name": "stdout",
     "output_type": "stream",
     "text": [
      "epoch:   6 loss: 0.0077891365\n"
     ]
    },
    {
     "data": {
      "application/vnd.jupyter.widget-view+json": {
       "model_id": "d5cf5692ba9647368d86532899210b42",
       "version_major": 2,
       "version_minor": 0
      },
      "text/plain": [
       "  0%|          | 0/362 [00:00<?, ?it/s]"
      ]
     },
     "metadata": {},
     "output_type": "display_data"
    },
    {
     "name": "stdout",
     "output_type": "stream",
     "text": [
      "epoch:   7 loss: 0.0065515002\n"
     ]
    },
    {
     "data": {
      "application/vnd.jupyter.widget-view+json": {
       "model_id": "c5281d7f37bc4a6d9c206cec0956e96e",
       "version_major": 2,
       "version_minor": 0
      },
      "text/plain": [
       "  0%|          | 0/362 [00:00<?, ?it/s]"
      ]
     },
     "metadata": {},
     "output_type": "display_data"
    },
    {
     "name": "stdout",
     "output_type": "stream",
     "text": [
      "epoch:   8 loss: 0.0057606523\n"
     ]
    },
    {
     "data": {
      "application/vnd.jupyter.widget-view+json": {
       "model_id": "cf3b88292cda44d19e0f1621bee39c71",
       "version_major": 2,
       "version_minor": 0
      },
      "text/plain": [
       "  0%|          | 0/362 [00:00<?, ?it/s]"
      ]
     },
     "metadata": {},
     "output_type": "display_data"
    },
    {
     "name": "stdout",
     "output_type": "stream",
     "text": [
      "epoch:   9 loss: 0.0052481586\n"
     ]
    },
    {
     "data": {
      "application/vnd.jupyter.widget-view+json": {
       "model_id": "069ca81c4d924d37988308786863c432",
       "version_major": 2,
       "version_minor": 0
      },
      "text/plain": [
       "  0%|          | 0/362 [00:00<?, ?it/s]"
      ]
     },
     "metadata": {},
     "output_type": "display_data"
    },
    {
     "name": "stdout",
     "output_type": "stream",
     "text": [
      "epoch:  10 loss: 0.0048606374\n"
     ]
    },
    {
     "data": {
      "application/vnd.jupyter.widget-view+json": {
       "model_id": "d5d1522ae3c04649b7b8f71c2d718dc5",
       "version_major": 2,
       "version_minor": 0
      },
      "text/plain": [
       "  0%|          | 0/362 [00:00<?, ?it/s]"
      ]
     },
     "metadata": {},
     "output_type": "display_data"
    },
    {
     "name": "stdout",
     "output_type": "stream",
     "text": [
      "epoch:  11 loss: 0.0045603150\n"
     ]
    },
    {
     "data": {
      "application/vnd.jupyter.widget-view+json": {
       "model_id": "2b6f27ef0a984ce69573e585d884a6a8",
       "version_major": 2,
       "version_minor": 0
      },
      "text/plain": [
       "  0%|          | 0/362 [00:00<?, ?it/s]"
      ]
     },
     "metadata": {},
     "output_type": "display_data"
    },
    {
     "name": "stdout",
     "output_type": "stream",
     "text": [
      "epoch:  12 loss: 0.0043304244\n"
     ]
    },
    {
     "data": {
      "application/vnd.jupyter.widget-view+json": {
       "model_id": "dbe993f5fda84014bac475bfe40922dd",
       "version_major": 2,
       "version_minor": 0
      },
      "text/plain": [
       "  0%|          | 0/362 [00:00<?, ?it/s]"
      ]
     },
     "metadata": {},
     "output_type": "display_data"
    },
    {
     "name": "stdout",
     "output_type": "stream",
     "text": [
      "epoch:  13 loss: 0.0041275075\n"
     ]
    },
    {
     "data": {
      "application/vnd.jupyter.widget-view+json": {
       "model_id": "446f2afd56994421a97364f877ab4f97",
       "version_major": 2,
       "version_minor": 0
      },
      "text/plain": [
       "  0%|          | 0/362 [00:00<?, ?it/s]"
      ]
     },
     "metadata": {},
     "output_type": "display_data"
    },
    {
     "name": "stdout",
     "output_type": "stream",
     "text": [
      "epoch:  14 loss: 0.0039569920\n"
     ]
    },
    {
     "data": {
      "application/vnd.jupyter.widget-view+json": {
       "model_id": "9a53271ad3d240f4afd49bf42649d488",
       "version_major": 2,
       "version_minor": 0
      },
      "text/plain": [
       "  0%|          | 0/362 [00:00<?, ?it/s]"
      ]
     },
     "metadata": {},
     "output_type": "display_data"
    },
    {
     "name": "stdout",
     "output_type": "stream",
     "text": [
      "epoch:  15 loss: 0.0038092928\n"
     ]
    },
    {
     "data": {
      "application/vnd.jupyter.widget-view+json": {
       "model_id": "22e423e3f3ca4c3ebaf96a1af7482872",
       "version_major": 2,
       "version_minor": 0
      },
      "text/plain": [
       "  0%|          | 0/362 [00:00<?, ?it/s]"
      ]
     },
     "metadata": {},
     "output_type": "display_data"
    },
    {
     "name": "stdout",
     "output_type": "stream",
     "text": [
      "epoch:  16 loss: 0.0036800746\n"
     ]
    },
    {
     "data": {
      "application/vnd.jupyter.widget-view+json": {
       "model_id": "d7632fb7cf1a436cbfe9d1a3505c4030",
       "version_major": 2,
       "version_minor": 0
      },
      "text/plain": [
       "  0%|          | 0/362 [00:00<?, ?it/s]"
      ]
     },
     "metadata": {},
     "output_type": "display_data"
    },
    {
     "name": "stdout",
     "output_type": "stream",
     "text": [
      "epoch:  17 loss: 0.0035615762\n"
     ]
    },
    {
     "data": {
      "application/vnd.jupyter.widget-view+json": {
       "model_id": "a5c0069da94f4d19b12906909c91333c",
       "version_major": 2,
       "version_minor": 0
      },
      "text/plain": [
       "  0%|          | 0/362 [00:00<?, ?it/s]"
      ]
     },
     "metadata": {},
     "output_type": "display_data"
    },
    {
     "name": "stdout",
     "output_type": "stream",
     "text": [
      "epoch:  18 loss: 0.0034559958\n"
     ]
    },
    {
     "data": {
      "application/vnd.jupyter.widget-view+json": {
       "model_id": "9ec00eb96b054689b1380b9404ed39a7",
       "version_major": 2,
       "version_minor": 0
      },
      "text/plain": [
       "  0%|          | 0/362 [00:00<?, ?it/s]"
      ]
     },
     "metadata": {},
     "output_type": "display_data"
    },
    {
     "name": "stdout",
     "output_type": "stream",
     "text": [
      "epoch:  19 loss: 0.0033571102\n"
     ]
    },
    {
     "data": {
      "application/vnd.jupyter.widget-view+json": {
       "model_id": "7e59bf05009b47dca54c34c0ba347961",
       "version_major": 2,
       "version_minor": 0
      },
      "text/plain": [
       "  0%|          | 0/362 [00:00<?, ?it/s]"
      ]
     },
     "metadata": {},
     "output_type": "display_data"
    },
    {
     "name": "stdout",
     "output_type": "stream",
     "text": [
      "epoch:  20 loss: 0.0032576398\n"
     ]
    },
    {
     "data": {
      "application/vnd.jupyter.widget-view+json": {
       "model_id": "156743863fcc44e291851288c0f6259c",
       "version_major": 2,
       "version_minor": 0
      },
      "text/plain": [
       "  0%|          | 0/362 [00:00<?, ?it/s]"
      ]
     },
     "metadata": {},
     "output_type": "display_data"
    },
    {
     "name": "stdout",
     "output_type": "stream",
     "text": [
      "epoch:  21 loss: 0.0031629605\n"
     ]
    },
    {
     "data": {
      "application/vnd.jupyter.widget-view+json": {
       "model_id": "3fcb0c64393040938f586e0e9b5cafbe",
       "version_major": 2,
       "version_minor": 0
      },
      "text/plain": [
       "  0%|          | 0/362 [00:00<?, ?it/s]"
      ]
     },
     "metadata": {},
     "output_type": "display_data"
    },
    {
     "name": "stdout",
     "output_type": "stream",
     "text": [
      "epoch:  22 loss: 0.0030763471\n"
     ]
    },
    {
     "data": {
      "application/vnd.jupyter.widget-view+json": {
       "model_id": "c74378bbb9c54fa1908456981f44b454",
       "version_major": 2,
       "version_minor": 0
      },
      "text/plain": [
       "  0%|          | 0/362 [00:00<?, ?it/s]"
      ]
     },
     "metadata": {},
     "output_type": "display_data"
    },
    {
     "name": "stdout",
     "output_type": "stream",
     "text": [
      "epoch:  23 loss: 0.0029952237\n"
     ]
    },
    {
     "data": {
      "application/vnd.jupyter.widget-view+json": {
       "model_id": "daa182047a604923ab2102429f7c73b7",
       "version_major": 2,
       "version_minor": 0
      },
      "text/plain": [
       "  0%|          | 0/362 [00:00<?, ?it/s]"
      ]
     },
     "metadata": {},
     "output_type": "display_data"
    },
    {
     "name": "stdout",
     "output_type": "stream",
     "text": [
      "epoch:  24 loss: 0.0029197173\n"
     ]
    },
    {
     "data": {
      "application/vnd.jupyter.widget-view+json": {
       "model_id": "eb83f7ce86a34154b2e47f622370bea8",
       "version_major": 2,
       "version_minor": 0
      },
      "text/plain": [
       "  0%|          | 0/362 [00:00<?, ?it/s]"
      ]
     },
     "metadata": {},
     "output_type": "display_data"
    },
    {
     "name": "stdout",
     "output_type": "stream",
     "text": [
      "epoch:  25 loss: 0.0028463169\n"
     ]
    },
    {
     "data": {
      "application/vnd.jupyter.widget-view+json": {
       "model_id": "c0f8030c6b40477b809d831a11a5af05",
       "version_major": 2,
       "version_minor": 0
      },
      "text/plain": [
       "  0%|          | 0/362 [00:00<?, ?it/s]"
      ]
     },
     "metadata": {},
     "output_type": "display_data"
    },
    {
     "name": "stdout",
     "output_type": "stream",
     "text": [
      "epoch:  26 loss: 0.0027760083\n"
     ]
    },
    {
     "data": {
      "application/vnd.jupyter.widget-view+json": {
       "model_id": "456c77c28e7741788bcd6117c938577e",
       "version_major": 2,
       "version_minor": 0
      },
      "text/plain": [
       "  0%|          | 0/362 [00:00<?, ?it/s]"
      ]
     },
     "metadata": {},
     "output_type": "display_data"
    },
    {
     "name": "stdout",
     "output_type": "stream",
     "text": [
      "epoch:  27 loss: 0.0027065732\n"
     ]
    },
    {
     "data": {
      "application/vnd.jupyter.widget-view+json": {
       "model_id": "def53aef1d244e28a6fea979da69990b",
       "version_major": 2,
       "version_minor": 0
      },
      "text/plain": [
       "  0%|          | 0/362 [00:00<?, ?it/s]"
      ]
     },
     "metadata": {},
     "output_type": "display_data"
    },
    {
     "name": "stdout",
     "output_type": "stream",
     "text": [
      "epoch:  28 loss: 0.0026340684\n"
     ]
    },
    {
     "data": {
      "application/vnd.jupyter.widget-view+json": {
       "model_id": "a788f82442d644abaabd7de030d0ae00",
       "version_major": 2,
       "version_minor": 0
      },
      "text/plain": [
       "  0%|          | 0/362 [00:00<?, ?it/s]"
      ]
     },
     "metadata": {},
     "output_type": "display_data"
    },
    {
     "name": "stdout",
     "output_type": "stream",
     "text": [
      "epoch:  29 loss: 0.0025604321\n"
     ]
    },
    {
     "data": {
      "application/vnd.jupyter.widget-view+json": {
       "model_id": "fa1d2994d92d49cf9665c02b5b51330e",
       "version_major": 2,
       "version_minor": 0
      },
      "text/plain": [
       "  0%|          | 0/362 [00:00<?, ?it/s]"
      ]
     },
     "metadata": {},
     "output_type": "display_data"
    },
    {
     "name": "stdout",
     "output_type": "stream",
     "text": [
      "epoch:  30 loss: 0.0024909337\n"
     ]
    },
    {
     "data": {
      "application/vnd.jupyter.widget-view+json": {
       "model_id": "01375209007948b9974745675483a018",
       "version_major": 2,
       "version_minor": 0
      },
      "text/plain": [
       "  0%|          | 0/362 [00:00<?, ?it/s]"
      ]
     },
     "metadata": {},
     "output_type": "display_data"
    },
    {
     "name": "stdout",
     "output_type": "stream",
     "text": [
      "epoch:  31 loss: 0.0024266628\n"
     ]
    },
    {
     "data": {
      "application/vnd.jupyter.widget-view+json": {
       "model_id": "4e72622faedb43ad8661a570f417f4f2",
       "version_major": 2,
       "version_minor": 0
      },
      "text/plain": [
       "  0%|          | 0/362 [00:00<?, ?it/s]"
      ]
     },
     "metadata": {},
     "output_type": "display_data"
    },
    {
     "name": "stdout",
     "output_type": "stream",
     "text": [
      "epoch:  32 loss: 0.0023686969\n"
     ]
    },
    {
     "data": {
      "application/vnd.jupyter.widget-view+json": {
       "model_id": "103c6220dd6546fdbd1fe65d78983cfd",
       "version_major": 2,
       "version_minor": 0
      },
      "text/plain": [
       "  0%|          | 0/362 [00:00<?, ?it/s]"
      ]
     },
     "metadata": {},
     "output_type": "display_data"
    },
    {
     "name": "stdout",
     "output_type": "stream",
     "text": [
      "epoch:  33 loss: 0.0023172998\n"
     ]
    },
    {
     "data": {
      "application/vnd.jupyter.widget-view+json": {
       "model_id": "b87fb2308c784fdea87fef0f782f92ec",
       "version_major": 2,
       "version_minor": 0
      },
      "text/plain": [
       "  0%|          | 0/362 [00:00<?, ?it/s]"
      ]
     },
     "metadata": {},
     "output_type": "display_data"
    },
    {
     "name": "stdout",
     "output_type": "stream",
     "text": [
      "epoch:  34 loss: 0.0022684163\n"
     ]
    },
    {
     "data": {
      "application/vnd.jupyter.widget-view+json": {
       "model_id": "bb88fcfaddf241f4b8caf34aedb26f29",
       "version_major": 2,
       "version_minor": 0
      },
      "text/plain": [
       "  0%|          | 0/362 [00:00<?, ?it/s]"
      ]
     },
     "metadata": {},
     "output_type": "display_data"
    },
    {
     "name": "stdout",
     "output_type": "stream",
     "text": [
      "epoch:  35 loss: 0.0022258569\n"
     ]
    },
    {
     "data": {
      "application/vnd.jupyter.widget-view+json": {
       "model_id": "5b41bfb8aadd45a8a2baf0040481d168",
       "version_major": 2,
       "version_minor": 0
      },
      "text/plain": [
       "  0%|          | 0/362 [00:00<?, ?it/s]"
      ]
     },
     "metadata": {},
     "output_type": "display_data"
    },
    {
     "name": "stdout",
     "output_type": "stream",
     "text": [
      "epoch:  36 loss: 0.0021858435\n"
     ]
    },
    {
     "data": {
      "application/vnd.jupyter.widget-view+json": {
       "model_id": "9a2d817c6c194c089247f20320eab832",
       "version_major": 2,
       "version_minor": 0
      },
      "text/plain": [
       "  0%|          | 0/362 [00:00<?, ?it/s]"
      ]
     },
     "metadata": {},
     "output_type": "display_data"
    },
    {
     "name": "stdout",
     "output_type": "stream",
     "text": [
      "epoch:  37 loss: 0.0021492063\n"
     ]
    },
    {
     "data": {
      "application/vnd.jupyter.widget-view+json": {
       "model_id": "38484c42a9a64563a1248d47ea46e13e",
       "version_major": 2,
       "version_minor": 0
      },
      "text/plain": [
       "  0%|          | 0/362 [00:00<?, ?it/s]"
      ]
     },
     "metadata": {},
     "output_type": "display_data"
    },
    {
     "name": "stdout",
     "output_type": "stream",
     "text": [
      "epoch:  38 loss: 0.0021136835\n"
     ]
    },
    {
     "data": {
      "application/vnd.jupyter.widget-view+json": {
       "model_id": "3a0a9172a2444d2fb667b81c8b4994af",
       "version_major": 2,
       "version_minor": 0
      },
      "text/plain": [
       "  0%|          | 0/362 [00:00<?, ?it/s]"
      ]
     },
     "metadata": {},
     "output_type": "display_data"
    },
    {
     "name": "stdout",
     "output_type": "stream",
     "text": [
      "epoch:  39 loss: 0.0020815029\n"
     ]
    },
    {
     "data": {
      "application/vnd.jupyter.widget-view+json": {
       "model_id": "a368e72f9a0f47a2a5ac0a603748605c",
       "version_major": 2,
       "version_minor": 0
      },
      "text/plain": [
       "  0%|          | 0/362 [00:00<?, ?it/s]"
      ]
     },
     "metadata": {},
     "output_type": "display_data"
    },
    {
     "name": "stdout",
     "output_type": "stream",
     "text": [
      "epoch:  40 loss: 0.0020511401\n"
     ]
    },
    {
     "data": {
      "application/vnd.jupyter.widget-view+json": {
       "model_id": "eb62d2305d8a451abe23e1a2e43c4f21",
       "version_major": 2,
       "version_minor": 0
      },
      "text/plain": [
       "  0%|          | 0/362 [00:00<?, ?it/s]"
      ]
     },
     "metadata": {},
     "output_type": "display_data"
    },
    {
     "name": "stdout",
     "output_type": "stream",
     "text": [
      "epoch:  41 loss: 0.0020223349\n"
     ]
    },
    {
     "data": {
      "application/vnd.jupyter.widget-view+json": {
       "model_id": "8dbb65f72dcd41d28f44d442081e33b5",
       "version_major": 2,
       "version_minor": 0
      },
      "text/plain": [
       "  0%|          | 0/362 [00:00<?, ?it/s]"
      ]
     },
     "metadata": {},
     "output_type": "display_data"
    },
    {
     "name": "stdout",
     "output_type": "stream",
     "text": [
      "epoch:  42 loss: 0.0019945454\n"
     ]
    },
    {
     "data": {
      "application/vnd.jupyter.widget-view+json": {
       "model_id": "8637ec04bee6494cba1bca983ed263bc",
       "version_major": 2,
       "version_minor": 0
      },
      "text/plain": [
       "  0%|          | 0/362 [00:00<?, ?it/s]"
      ]
     },
     "metadata": {},
     "output_type": "display_data"
    },
    {
     "name": "stdout",
     "output_type": "stream",
     "text": [
      "epoch:  43 loss: 0.0019676614\n"
     ]
    },
    {
     "data": {
      "application/vnd.jupyter.widget-view+json": {
       "model_id": "7d2d5d1b1c0c45a2b178a3dae1336929",
       "version_major": 2,
       "version_minor": 0
      },
      "text/plain": [
       "  0%|          | 0/362 [00:00<?, ?it/s]"
      ]
     },
     "metadata": {},
     "output_type": "display_data"
    },
    {
     "name": "stdout",
     "output_type": "stream",
     "text": [
      "epoch:  44 loss: 0.0019417484\n"
     ]
    },
    {
     "data": {
      "application/vnd.jupyter.widget-view+json": {
       "model_id": "316234acdeb44411830562785746a59d",
       "version_major": 2,
       "version_minor": 0
      },
      "text/plain": [
       "  0%|          | 0/362 [00:00<?, ?it/s]"
      ]
     },
     "metadata": {},
     "output_type": "display_data"
    },
    {
     "name": "stdout",
     "output_type": "stream",
     "text": [
      "epoch:  45 loss: 0.0019165580\n"
     ]
    },
    {
     "data": {
      "application/vnd.jupyter.widget-view+json": {
       "model_id": "e32562488e4642f486d13569a2889c61",
       "version_major": 2,
       "version_minor": 0
      },
      "text/plain": [
       "  0%|          | 0/362 [00:00<?, ?it/s]"
      ]
     },
     "metadata": {},
     "output_type": "display_data"
    },
    {
     "name": "stdout",
     "output_type": "stream",
     "text": [
      "epoch:  46 loss: 0.0018921136\n"
     ]
    },
    {
     "data": {
      "application/vnd.jupyter.widget-view+json": {
       "model_id": "92d5a306b35c4442b76a19a5020ce6df",
       "version_major": 2,
       "version_minor": 0
      },
      "text/plain": [
       "  0%|          | 0/362 [00:00<?, ?it/s]"
      ]
     },
     "metadata": {},
     "output_type": "display_data"
    },
    {
     "name": "stdout",
     "output_type": "stream",
     "text": [
      "epoch:  47 loss: 0.0018685264\n"
     ]
    },
    {
     "data": {
      "application/vnd.jupyter.widget-view+json": {
       "model_id": "5854db94adf64a3cb7d6e281ea212667",
       "version_major": 2,
       "version_minor": 0
      },
      "text/plain": [
       "  0%|          | 0/362 [00:00<?, ?it/s]"
      ]
     },
     "metadata": {},
     "output_type": "display_data"
    },
    {
     "name": "stdout",
     "output_type": "stream",
     "text": [
      "epoch:  48 loss: 0.0018458768\n"
     ]
    },
    {
     "data": {
      "application/vnd.jupyter.widget-view+json": {
       "model_id": "0cf62f87dfc64ba3bee8f15a99ebcfdb",
       "version_major": 2,
       "version_minor": 0
      },
      "text/plain": [
       "  0%|          | 0/362 [00:00<?, ?it/s]"
      ]
     },
     "metadata": {},
     "output_type": "display_data"
    },
    {
     "name": "stdout",
     "output_type": "stream",
     "text": [
      "epoch:  49 loss: 0.0018242606\n"
     ]
    }
   ],
   "source": [
    "from tqdm.notebook import tqdm\n",
    "model.train()\n",
    "        \n",
    "epochs = 50\n",
    "for i in tqdm(range(epochs)):\n",
    "    epoch_loss = 0\n",
    "    for seq, labels in tqdm(train_seqs):\n",
    "        seq = torch.from_numpy(np.array(seq)).type(torch.FloatTensor)\n",
    "        labels = torch.from_numpy(np.array(labels)).type(torch.FloatTensor)\n",
    "\n",
    "        optimizer.zero_grad()\n",
    "\n",
    "        y_pred = model(seq)\n",
    "        \n",
    "        labels = labels.view(1)\n",
    "        \n",
    "        single_loss = loss_function(y_pred, labels)\n",
    "        single_loss.backward()\n",
    "        optimizer.step()\n",
    "\n",
    "        epoch_loss += single_loss.item()\n",
    "\n",
    "    average_loss = epoch_loss / len(train)\n",
    "    print(f'epoch: {i:3} loss: {average_loss:.10f}')"
   ]
  },
  {
   "cell_type": "code",
   "execution_count": 95,
   "metadata": {},
   "outputs": [],
   "source": [
    "model.eval()\n",
    "actual = []\n",
    "pred = []\n",
    "\n",
    "for seq, labels in train_seqs:\n",
    "    seq = torch.from_numpy(np.array(seq)).type(torch.FloatTensor)\n",
    "    labels = torch.from_numpy(np.array(labels)).type(torch.FloatTensor)\n",
    "    actual.append(labels.item())\n",
    "    with torch.no_grad():\n",
    "        pred.append(model(seq).item())\n",
    "\n",
    "actual = np.array(actual)\n",
    "pred = np.array(pred)"
   ]
  },
  {
   "cell_type": "code",
   "execution_count": 96,
   "metadata": {},
   "outputs": [],
   "source": [
    "pred = torch.from_numpy(np.array(pred)).type(torch.Tensor)\n",
    "actual = torch.from_numpy(np.array(actual)).type(torch.Tensor)"
   ]
  },
  {
   "cell_type": "code",
   "execution_count": 97,
   "metadata": {},
   "outputs": [
    {
     "name": "stdout",
     "output_type": "stream",
     "text": [
      "tensor([0.8183, 0.8183, 0.7938, 0.7902, 0.8421, 0.8347, 0.8189, 0.8177, 0.8177,\n",
      "        0.8475, 0.8284, 0.8189, 0.8332, 0.8662, 0.8710, 0.8710, 0.8733, 0.8776,\n",
      "        0.8749, 0.8535, 0.8627, 0.8654, 0.8654, 0.8052, 0.8334, 0.8468, 0.8152,\n",
      "        0.7978, 0.7957, 0.7957, 0.8189, 0.8321, 0.8272, 0.8031, 0.8182, 0.8234,\n",
      "        0.8234, 0.7989, 0.8478, 0.8271, 0.8072, 0.7882, 0.7855, 0.7855, 0.7851,\n",
      "        0.7712, 0.7764, 0.7855, 0.7816, 0.7811, 0.7811, 0.7811, 0.7415, 0.8123,\n",
      "        0.7352, 0.6610, 0.6533, 0.6533, 0.6328, 0.7540, 0.6953, 0.6700, 0.5187,\n",
      "        0.4972, 0.4972, 0.4972, 0.2766, 0.0737, 0.2020, 0.2750, 0.3302, 0.3302,\n",
      "        0.1357, 0.1283, 0.1128, 0.2014, 0.2482, 0.3481, 0.3481, 0.1823, 0.2398,\n",
      "        0.2395, 0.1662, 0.1659, 0.1476, 0.1476, 0.1964, 0.2213, 0.2042, 0.2437,\n",
      "        0.2011, 0.2214, 0.2214, 0.2878, 0.3843, 0.3583, 0.4175, 0.3724, 0.3804,\n",
      "        0.3804, 0.3482, 0.3549, 0.2353, 0.2578, 0.2821, 0.3137, 0.3137, 0.2679,\n",
      "        0.2402, 0.2684, 0.2838, 0.2702, 0.2696, 0.2696, 0.2803, 0.3303, 0.3373,\n",
      "        0.3553, 0.3523, 0.3523, 0.3523, 0.2992, 0.3326, 0.3466, 0.3389, 0.3390,\n",
      "        0.3437, 0.3437, 0.3437, 0.2930, 0.2522, 0.2296, 0.2310, 0.2405, 0.2405,\n",
      "        0.2979, 0.2670, 0.3062, 0.2839, 0.2621, 0.2639, 0.2639, 0.3013, 0.3491,\n",
      "        0.3727, 0.4352, 0.3504, 0.3408, 0.3408, 0.4118, 0.5416, 0.6571, 0.4808,\n",
      "        0.5737, 0.6067, 0.6067, 0.5933, 0.5330, 0.4806, 0.4188, 0.4164, 0.4164,\n",
      "        0.4164, 0.4182, 0.4560, 0.4565, 0.3951, 0.4533, 0.4669, 0.4669, 0.4304,\n",
      "        0.4500, 0.4540, 0.4205, 0.3832, 0.3854, 0.3854, 0.4248, 0.3950, 0.3915,\n",
      "        0.4955, 0.4856, 0.4848, 0.4848, 0.5383, 0.4590, 0.4718, 0.4520, 0.4908,\n",
      "        0.4969, 0.4969, 0.4464, 0.4598, 0.4798, 0.4747, 0.4704, 0.4701, 0.4701,\n",
      "        0.5095, 0.5496, 0.5329, 0.5184, 0.4853, 0.4811, 0.4811, 0.5279, 0.5086,\n",
      "        0.5619, 0.5386, 0.5888, 0.5977, 0.5977, 0.6531, 0.6312, 0.6219, 0.6036,\n",
      "        0.6196, 0.6222, 0.6222, 0.6109, 0.7114, 0.8086, 0.7672, 0.7236, 0.7203,\n",
      "        0.7203, 0.7220, 0.6909, 0.7230, 0.6836, 0.6952, 0.7021, 0.7021, 0.6676,\n",
      "        0.6302, 0.6371, 0.6175, 0.6158, 0.6176, 0.6176, 0.6287, 0.6308, 0.5832,\n",
      "        0.5349, 0.5943, 0.6079, 0.6079, 0.5804, 0.5349, 0.5381, 0.5837, 0.5770,\n",
      "        0.5763, 0.5763, 0.6590, 0.6917, 0.6584, 0.6574, 0.6537, 0.6521, 0.6521,\n",
      "        0.6088, 0.6627, 0.6528, 0.6498, 0.6416, 0.6420, 0.6420, 0.6502, 0.6182,\n",
      "        0.6627, 0.6410, 0.3625, 0.3327, 0.3327, 0.4138, 0.4996, 0.4730, 0.4391,\n",
      "        0.4158, 0.4123, 0.4123, 0.4334, 0.4193, 0.4551, 0.3968, 0.3701, 0.3716,\n",
      "        0.3716, 0.4035, 0.4978, 0.4882, 0.4632, 0.5301, 0.5370, 0.5370, 0.4676,\n",
      "        0.4323, 0.3995, 0.4299, 0.3628, 0.3544, 0.3544, 0.4079, 0.4829, 0.4932,\n",
      "        0.6094, 0.5496, 0.5470, 0.5470, 0.7459, 0.8118, 0.8792, 0.8051, 0.7861,\n",
      "        0.7877, 0.7877, 0.8386, 0.7993, 0.7517, 0.7487, 0.7183, 0.7169, 0.7169,\n",
      "        0.7487, 0.8206, 0.8709, 0.8177, 0.8082, 0.8093, 0.8093, 0.8213, 0.9154,\n",
      "        0.9060, 0.8737, 0.9262, 0.9358, 0.9358, 0.9416, 0.9324, 0.9357, 0.9522,\n",
      "        0.9547, 0.9540, 0.9540, 0.9475, 0.9410, 0.9260, 0.9470, 0.9118, 0.9051,\n",
      "        0.9051, 0.8787, 0.8898, 0.9154, 0.8912, 0.8728, 0.8709, 0.8709, 0.9043,\n",
      "        0.8933, 0.8863])\n",
      "tensor([0.7375, 0.7275, 0.7275, 0.7754, 0.7648, 0.7667, 0.7667, 0.7667, 0.8051,\n",
      "        0.7745, 0.7495, 0.7605, 0.8060, 0.8060, 0.8060, 0.8406, 0.8568, 0.8430,\n",
      "        0.8173, 0.8334, 0.8334, 0.8334, 0.7405, 0.7622, 0.7827, 0.7586, 0.7119,\n",
      "        0.7119, 0.7119, 0.7283, 0.7412, 0.7394, 0.7111, 0.7311, 0.7311, 0.7311,\n",
      "        0.7125, 0.7330, 0.7330, 0.7274, 0.7078, 0.7078, 0.7078, 0.7043, 0.6845,\n",
      "        0.6891, 0.6932, 0.6992, 0.6992, 0.6992, 0.6992, 0.6479, 0.6992, 0.6268,\n",
      "        0.5398, 0.5398, 0.5398, 0.4924, 0.5697, 0.5573, 0.5304, 0.4177, 0.4177,\n",
      "        0.4177, 0.4177, 0.2460, 0.1851, 0.0150, 0.2223, 0.2223, 0.2223, 0.1971,\n",
      "        0.0890, 0.0000, 0.1392, 0.1957, 0.1957, 0.1957, 0.0831, 0.1678, 0.1262,\n",
      "        0.1261, 0.0558, 0.0558, 0.0558, 0.0798, 0.1182, 0.0960, 0.1158, 0.1039,\n",
      "        0.1039, 0.1039, 0.1501, 0.2134, 0.2377, 0.2680, 0.2532, 0.2532, 0.2532,\n",
      "        0.2192, 0.2110, 0.1078, 0.1300, 0.1601, 0.1601, 0.1601, 0.1375, 0.1076,\n",
      "        0.1455, 0.1523, 0.1337, 0.1337, 0.1337, 0.1337, 0.1693, 0.1967, 0.2099,\n",
      "        0.2099, 0.2099, 0.2099, 0.1774, 0.1871, 0.1958, 0.1940, 0.1987, 0.1987,\n",
      "        0.1987, 0.1987, 0.1565, 0.1191, 0.0872, 0.0875, 0.0875, 0.0875, 0.1339,\n",
      "        0.1346, 0.1801, 0.1656, 0.1337, 0.1337, 0.1337, 0.1528, 0.1802, 0.2215,\n",
      "        0.2807, 0.2396, 0.2396, 0.2396, 0.2685, 0.3447, 0.4315, 0.3547, 0.4096,\n",
      "        0.4096, 0.4096, 0.4205, 0.3925, 0.3495, 0.3113, 0.3113, 0.3113, 0.3113,\n",
      "        0.3019, 0.3060, 0.3094, 0.2695, 0.2990, 0.2990, 0.2990, 0.2935, 0.3018,\n",
      "        0.3018, 0.2983, 0.2638, 0.2638, 0.2638, 0.2881, 0.2645, 0.2645, 0.3228,\n",
      "        0.3351, 0.3351, 0.3351, 0.3685, 0.3313, 0.3353, 0.3183, 0.3473, 0.3473,\n",
      "        0.3473, 0.3117, 0.3219, 0.3364, 0.3388, 0.3338, 0.3338, 0.3338, 0.3620,\n",
      "        0.3788, 0.3877, 0.3758, 0.3810, 0.3810, 0.3810, 0.3895, 0.3769, 0.4103,\n",
      "        0.4009, 0.4321, 0.4321, 0.4321, 0.4792, 0.4832, 0.4762, 0.4726, 0.4843,\n",
      "        0.4843, 0.4843, 0.4725, 0.5333, 0.6224, 0.6132, 0.6004, 0.6004, 0.6004,\n",
      "        0.5804, 0.5667, 0.5950, 0.5318, 0.5203, 0.5203, 0.5203, 0.5257, 0.4916,\n",
      "        0.4890, 0.4747, 0.4753, 0.4753, 0.4753, 0.4735, 0.4876, 0.4413, 0.4024,\n",
      "        0.4380, 0.4380, 0.4380, 0.4298, 0.3966, 0.3995, 0.4233, 0.4276, 0.4276,\n",
      "        0.4276, 0.4851, 0.5228, 0.5188, 0.5225, 0.5119, 0.5119, 0.5119, 0.4749,\n",
      "        0.5080, 0.4954, 0.4924, 0.4931, 0.4931, 0.4931, 0.4966, 0.4678, 0.5013,\n",
      "        0.4838, 0.3155, 0.3155, 0.3155, 0.3163, 0.3372, 0.3319, 0.3079, 0.2842,\n",
      "        0.2842, 0.2842, 0.2915, 0.2810, 0.3066, 0.2702, 0.2458, 0.2458, 0.2458,\n",
      "        0.2605, 0.3222, 0.3294, 0.3283, 0.3675, 0.3675, 0.3675, 0.3365, 0.3049,\n",
      "        0.2783, 0.2860, 0.2441, 0.2441, 0.2441, 0.2762, 0.3191, 0.3191, 0.3876,\n",
      "        0.3949, 0.3949, 0.3949, 0.4913, 0.5649, 0.6389, 0.6195, 0.6278, 0.6278,\n",
      "        0.6278, 0.6735, 0.6526, 0.6253, 0.6030, 0.5952, 0.5952, 0.5952, 0.5978,\n",
      "        0.6675, 0.7093, 0.6928, 0.7064, 0.7064, 0.7064, 0.6885, 0.7906, 0.8203,\n",
      "        0.8119, 0.8746, 0.8746, 0.8746, 0.9144, 0.9247, 0.9375, 0.9860, 1.0000,\n",
      "        1.0000, 1.0000, 0.9655, 0.9540, 0.9508, 0.9522, 0.8760, 0.8760, 0.8760,\n",
      "        0.7996, 0.8018, 0.8755, 0.8684, 0.8804, 0.8804, 0.8804, 0.9175, 0.8928,\n",
      "        0.8896, 0.8896])\n"
     ]
    }
   ],
   "source": [
    "print(pred)\n",
    "print(actual)"
   ]
  },
  {
   "cell_type": "code",
   "execution_count": 99,
   "metadata": {},
   "outputs": [
    {
     "name": "stdout",
     "output_type": "stream",
     "text": [
      "[263.83820911 263.83820911 261.15855164 260.76802515 266.4506008\n",
      " 265.63684792 263.90698854 263.77374879 263.77374879 267.03494539\n",
      " 264.95124581 263.90659708 265.46921192 269.08043854 269.61038331\n",
      " 269.61038331 269.86434264 270.32741309 270.03552134 267.69368686\n",
      " 268.70244528 268.99840168 268.99840168 262.41151552 265.49024635\n",
      " 266.95896964 263.50388316 261.59986999 261.36855659 261.36855659\n",
      " 263.90482246 265.35153268 264.81835837 262.17539369 263.83509048\n",
      " 264.39588227 264.39588227 261.71729478 267.06756702 264.80146037\n",
      " 262.62943448 260.55017143 260.25070494 260.25070494 260.20268591\n",
      " 258.68835107 259.25320098 260.25232297 259.82723062 259.76922285\n",
      " 259.76922285 259.76922285 255.43832411 263.18266457 254.74679791\n",
      " 246.62694343 245.77893132 245.77893132 243.54054    256.80276912\n",
      " 250.37534397 247.61021784 231.04674581 228.69003587 228.69003587\n",
      " 228.69003587 204.54188338 182.34142442 196.376892   204.37044697\n",
      " 210.41802596 210.41802596 189.12167525 188.30854543 186.61371515\n",
      " 196.31191788 201.43556934 212.37479155 212.37479155 194.22971563\n",
      " 200.52138916 200.48300493 192.46002852 192.42422629 190.42612584\n",
      " 190.42612584 195.77027336 198.49041917 196.62286719 200.94692191\n",
      " 196.28594618 198.50175192 198.50175192 205.77188491 216.33797611\n",
      " 213.49175589 219.97346342 215.03371146 215.91364057 215.91364057\n",
      " 212.38601665 213.11695629 200.02205978 202.49388164 205.14487776\n",
      " 208.61219082 208.61219082 203.59202657 200.56432411 203.65194922\n",
      " 205.33992896 203.8436404  203.78386454 203.78386454 204.95102377\n",
      " 210.42128812 211.19449233 213.16281903 212.83734984 212.83734984\n",
      " 212.83734984 207.01937488 210.67596512 212.21201944 211.36755656\n",
      " 211.37921553 211.89511343 211.89511343 211.89511343 206.33870843\n",
      " 201.87997207 199.3972236  199.55513345 200.58993208 200.58993208\n",
      " 206.88224011 203.49781858 207.78988128 205.35102357 202.96222374\n",
      " 203.15480223 203.15480223 207.24664972 212.48066176 215.06512282\n",
      " 221.90720141 212.62441546 211.57116115 211.57116115 219.34911493\n",
      " 233.55517239 246.19393055 226.90320609 237.06580045 240.67998911\n",
      " 240.67998911 239.21764008 232.61457359 226.87844628 220.10704244\n",
      " 219.85167059 219.85167059 219.85167059 220.04681966 224.18422652\n",
      " 224.23648635 217.51508819 223.8924522  225.37656311 225.37656311\n",
      " 221.38299804 223.52267307 223.96822244 220.29886736 216.21582118\n",
      " 216.45679384 216.45679384 220.76634826 217.5051386  217.12837517\n",
      " 228.51094969 227.4286393  227.33291767 227.33291767 233.19548639\n",
      " 224.50958153 225.91626502 223.74461754 227.98797942 228.66093738\n",
      " 228.66093738 223.1288518  224.60312729 226.7940672  226.23432257\n",
      " 225.75561658 225.72684104 225.72684104 230.04042749 234.42521063\n",
      " 232.60236006 231.0161924  227.38611701 226.92694159 226.92694159\n",
      " 232.05438205 229.9454268  235.7758306  233.22129009 238.71460814\n",
      " 239.69025562 239.69025562 245.75806653 243.36250424 242.34392671\n",
      " 240.34408426 242.09233571 242.37929507 242.37929507 241.1426159\n",
      " 252.13907764 262.77828694 258.2450428  253.47434587 253.11285915\n",
      " 253.11285915 253.29784985 249.8965499  253.4147005  249.09233557\n",
      " 250.3716512  251.11902561 251.11902561 247.34752244 243.24665833\n",
      " 244.00511105 241.85702943 241.67774099 241.86796419 241.86796419\n",
      " 243.08529874 243.31996564 238.10389223 232.81564675 239.32223805\n",
      " 240.80785282 240.80785282 237.80113096 232.81680155 233.16576157\n",
      " 238.16435315 237.4315606  237.35508899 237.35508899 246.4044444\n",
      " 249.97854761 246.33760922 246.22514292 245.8245233  245.6448434\n",
      " 245.6448434  240.90696383 246.80858063 245.72530137 245.39962015\n",
      " 244.50169043 244.54271538 244.54271538 245.4397056  241.93320091\n",
      " 246.81154919 244.42908774 213.95265048 210.69079491 210.69079491\n",
      " 219.56769937 228.9561859  226.04786064 222.33399662 219.77925386\n",
      " 219.40456517 219.40456517 221.70518549 220.16597992 224.08768609\n",
      " 217.70782326 214.77918452 214.94308859 214.94308859 218.43486461\n",
      " 228.75646654 227.7062754  224.96823501 232.29848965 233.05374544\n",
      " 233.05374544 225.44916253 221.59096088 218.00358067 221.32681708\n",
      " 213.98507637 213.05945415 213.05945415 218.92171949 227.1298807\n",
      " 228.25765584 240.97007362 234.43303329 234.14861842 234.14861842\n",
      " 255.91431924 263.13185965 270.50660366 262.39110091 260.31202054\n",
      " 260.49027813 260.49027813 266.0599895  261.76661215 256.54667634\n",
      " 256.22320033 252.89688444 252.73971999 252.73971999 256.22609061\n",
      " 264.09156168 269.60060987 263.77746765 262.73341916 262.85680718\n",
      " 262.85680718 264.17161514 274.46587036 273.44123173 269.90259475\n",
      " 275.65081816 276.69981209 276.69981209 277.340703   276.33579393\n",
      " 276.69667389 278.49922729 278.77200929 278.69206022 278.69206022\n",
      " 277.9804652  277.27199534 275.6327784  277.93210691 274.07503071\n",
      " 273.34001989 273.34001989 270.44977027 271.67066057 274.47486088\n",
      " 271.81919987 269.80858576 269.60401557 269.60401557 273.25362479\n",
      " 272.05104826 271.28391167]\n"
     ]
    },
    {
     "name": "stderr",
     "output_type": "stream",
     "text": [
      "/var/folders/2c/1_dy62d12c725697ykpvzlkw0000gq/T/ipykernel_18519/2401850978.py:2: DeprecationWarning: __array__ implementation doesn't accept a copy keyword, so passing copy=False failed. __array__ must implement 'dtype' and 'copy' keyword arguments.\n",
      "  pred_new = scaler.inverse_transform(np.c_[np.array(pred), np.zeros(362),np.zeros(362),np.zeros(362),np.zeros(362), np.zeros(362)])\n"
     ]
    }
   ],
   "source": [
    "import numpy as np\n",
    "pred_new = scaler.inverse_transform(np.c_[np.array(pred), np.zeros(362),np.zeros(362),np.zeros(362),np.zeros(362), np.zeros(362)])\n",
    "print(pred_new[:,0])"
   ]
  },
  {
   "cell_type": "code",
   "execution_count": 100,
   "metadata": {},
   "outputs": [
    {
     "name": "stdout",
     "output_type": "stream",
     "text": [
      "[255.00000042 253.89999932 253.89999932 259.14999922 257.99000043\n",
      " 258.18999707 258.18999707 258.18999707 262.40000009 259.0500009\n",
      " 256.30999995 257.50999936 262.49999841 262.49999841 262.49999841\n",
      " 266.28000277 268.06000158 266.5399971  263.73000319 265.48999842\n",
      " 265.48999842 265.48999842 255.31999896 257.70000074 259.93999704\n",
      " 257.31000272 252.20000178 252.20000178 252.20000178 253.99000238\n",
      " 255.40000022 255.19999706 252.10999872 254.29999913 254.29999913\n",
      " 254.29999913 252.25999947 254.50000229 254.50000229 253.88999753\n",
      " 251.74999955 251.74999955 251.74999955 251.36000153 249.19999997\n",
      " 249.6999981  250.15000033 250.7999992  250.7999992  250.7999992\n",
      " 250.7999992  245.19000013 250.7999992  242.87999782 233.35999723\n",
      " 233.35999723 233.35999723 228.17000154 236.63000168 235.26999973\n",
      " 232.33000213 219.98999932 219.98999932 219.98999932 219.98999932\n",
      " 201.20000046 194.52999929 175.90999996 198.60000009 198.60000009\n",
      " 198.60000009 195.85000061 184.01       174.27       189.50999977\n",
      " 195.68999971 195.68999971 195.68999971 183.36999966 192.64000037\n",
      " 188.07999998 188.06999982 180.38000005 180.38000005 180.38000005\n",
      " 183.00000033 187.21000008 184.77999995 186.95000004 185.6399997\n",
      " 185.6399997  185.6399997  190.70000066 197.62999942 200.29000073\n",
      " 203.61000108 201.99000154 201.99000154 201.99000154 198.2599996\n",
      " 197.3700002  186.06999998 188.5000001  191.80000013 191.80000013\n",
      " 191.80000013 189.32000003 186.04999966 190.19999928 190.93999957\n",
      " 188.91000006 188.91000006 188.91000006 188.89999991 192.79999964\n",
      " 195.79999982 197.24999993 197.24999993 197.24999993 197.24999993\n",
      " 193.69000068 194.74999951 195.69999987 195.51000012 196.02000004\n",
      " 196.02000004 196.02000004 196.02000004 191.40000032 187.31000003\n",
      " 183.8100001  183.84999991 183.84999991 183.84999991 188.93000038\n",
      " 188.99999986 193.98000037 192.39999984 188.89999991 188.89999991\n",
      " 188.89999991 191.00000052 194.00000069 198.51000029 204.99999861\n",
      " 200.5000008  200.5000008  200.5000008  203.66000024 211.99999847\n",
      " 221.49999875 213.09999957 219.09999992 219.09999992 219.09999992\n",
      " 220.29999933 217.23000131 212.5299987  208.35000106 208.35000106\n",
      " 208.35000106 208.35000106 207.31999944 207.75999988 208.13999937\n",
      " 203.77000035 207.0000009  207.0000009  207.0000009  206.40000119\n",
      " 207.29999912 207.29999912 206.91999963 203.15000032 203.15000032\n",
      " 203.15000032 205.80000148 203.2199998  203.2199998  209.59999964\n",
      " 210.9499998  210.9499998  210.9499998  214.609999   210.52999968\n",
      " 210.97000011 209.11000004 212.27999964 212.27999964 212.27999964\n",
      " 208.38999843 209.50000132 211.08999875 211.3499996  210.81000084\n",
      " 210.81000084 210.81000084 213.89000065 215.73000041 216.70999961\n",
      " 215.40999861 215.97000095 215.97000095 215.97000095 216.90000098\n",
      " 215.53000051 219.18000118 218.14999956 221.57000149 221.57000149\n",
      " 221.57000149 226.7199998  227.16000024 226.40000126 226.00000146\n",
      " 227.27999888 227.27999888 227.27999888 225.98999967 232.65000067\n",
      " 242.39999675 241.38999871 239.99000265 239.99000265 239.99000265\n",
      " 237.80000225 236.30000135 239.40000147 232.48000288 231.21999925\n",
      " 231.21999925 231.21999925 231.81000043 228.07999849 227.80000058\n",
      " 226.2300002  226.29999968 226.29999968 226.29999968 226.09999978\n",
      " 227.64000131 222.570001   218.32000062 222.20999857 222.20999857\n",
      " 222.20999857 221.31999916 217.68000028 217.99999882 220.60000082\n",
      " 221.0700001  221.0700001  221.0700001  227.36999867 231.49999715\n",
      " 231.06000324 231.46000305 230.29999774 230.29999774 230.29999774\n",
      " 226.25000052 229.88000088 228.49999861 228.17000154 228.24000102\n",
      " 228.24000102 228.24000102 228.62999904 225.47999975 229.13999895\n",
      " 227.22999972 208.80000003 208.80000003 208.80000003 208.88999982\n",
      " 211.17999854 210.59999915 207.97000157 205.38000136 205.38000136\n",
      " 205.38000136 206.18000097 205.03000072 207.82999936 203.85000162\n",
      " 201.16999998 201.16999998 201.16999998 202.77999936 209.53999869\n",
      " 210.32999977 210.21000114 214.49999889 214.49999889 214.49999889\n",
      " 211.10000054 207.64000124 204.72999923 205.58000126 200.99000039\n",
      " 200.99000039 200.99000039 204.50000048 209.19999983 209.19999983\n",
      " 216.70000108 217.50000069 217.50000069 217.50000069 228.04999965\n",
      " 236.09999818 244.19999914 242.07999821 242.98999793 242.98999793\n",
      " 242.98999793 247.98999877 245.70000004 242.71000003 240.27000056\n",
      " 239.41999853 239.41999853 239.41999853 239.70000296 247.32999811\n",
      " 251.91000208 250.09999791 251.58999702 251.58999702 251.58999702\n",
      " 249.62999862 260.81000265 264.059997   263.14000201 270.00000292\n",
      " 270.00000292 270.00000292 274.36000015 275.49000009 276.89000267\n",
      " 282.20000025 283.73       283.73       283.73       279.95000216\n",
      " 278.70000032 278.35000294 278.49999716 270.15999893 270.15999893\n",
      " 270.15999893 261.79000185 262.04000091 270.10000124 269.31999868\n",
      " 270.64       270.64       270.64       274.70000227 272.00000195\n",
      " 271.64999804 271.64999804]\n"
     ]
    },
    {
     "name": "stderr",
     "output_type": "stream",
     "text": [
      "/var/folders/2c/1_dy62d12c725697ykpvzlkw0000gq/T/ipykernel_18519/1935999407.py:1: DeprecationWarning: __array__ implementation doesn't accept a copy keyword, so passing copy=False failed. __array__ must implement 'dtype' and 'copy' keyword arguments.\n",
      "  actual_new = scaler.inverse_transform(np.c_[np.array(actual), np.zeros(362),np.zeros(362),np.zeros(362),np.zeros(362), np.zeros(362)])\n"
     ]
    }
   ],
   "source": [
    "actual_new = scaler.inverse_transform(np.c_[np.array(actual), np.zeros(362),np.zeros(362),np.zeros(362),np.zeros(362), np.zeros(362)])\n",
    "print(actual_new[:,0])"
   ]
  },
  {
   "cell_type": "markdown",
   "metadata": {},
   "source": [
    "## Evaluate the model\n"
   ]
  },
  {
   "cell_type": "code",
   "execution_count": 101,
   "metadata": {},
   "outputs": [
    {
     "name": "stdout",
     "output_type": "stream",
     "text": [
      "Mean Absolute Error (MAE): 2.155023546868595\n",
      "Root Mean Squared Error (RMSE): 5.787473853189369\n"
     ]
    }
   ],
   "source": [
    "from sklearn.metrics import mean_absolute_error, mean_squared_error\n",
    "\n",
    "mae = mean_absolute_error(actual_new, pred_new)\n",
    "print(\"Mean Absolute Error (MAE):\", mae)\n",
    "\n",
    "rmse = np.sqrt(mean_squared_error(actual_new, pred_new))\n",
    "print(\"Root Mean Squared Error (RMSE):\", rmse)"
   ]
  },
  {
   "cell_type": "code",
   "execution_count": 102,
   "metadata": {},
   "outputs": [
    {
     "data": {
      "image/png": "[encoded data removed]",
      "text/plain": [
       "<Figure size 640x480 with 1 Axes>"
      ]
     },
     "metadata": {},
     "output_type": "display_data"
    }
   ],
   "source": [
    "fig, ax = plt.subplots()\n",
    "\n",
    "ax.plot(actual_new[:,0], 'r-', label='Actual')\n",
    "ax.plot(pred_new[:,0], 'c-', label='Predicted')\n",
    "\n",
    "ax.set_ylabel('Stock Value (dollars)')\n",
    "\n",
    "# ax.set_ylim(min(min(actual_new[:,3]), min(pred_new[:,3])) - 5, max(max(actual_new[:,3]), max(pred_new[:,3])) + 5)\n",
    "plt.xticks([])\n",
    "\n",
    "ax.legend(loc='upper left')\n",
    "\n",
    "plt.show()"
   ]
  },
  {
   "cell_type": "code",
   "execution_count": null,
   "metadata": {},
   "outputs": [],
   "source": []
  }
 ],
 "metadata": {
  "kernelspec": {
   "display_name": "Python 3 (ipykernel)",
   "language": "python",
   "name": "python3"
  },
  "language_info": {
   "codemirror_mode": {
    "name": "ipython",
    "version": 3
   },
   "file_extension": ".py",
   "mimetype": "text/x-python",
   "name": "python",
   "nbconvert_exporter": "python",
   "pygments_lexer": "ipython3",
   "version": "3.11.10"
  },
  "prev_pub_hash": "8624fe668f0264ca786b25fa9bd8d370f5cc97658b171ef519f3c1f32ad06f10"
 },
 "nbformat": 4,
 "nbformat_minor": 4
}
